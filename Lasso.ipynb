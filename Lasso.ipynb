{
 "cells": [
  {
   "cell_type": "markdown",
   "metadata": {},
   "source": [
    "## Import the required libraries"
   ]
  },
  {
   "cell_type": "code",
   "execution_count": 35,
   "metadata": {},
   "outputs": [],
   "source": [
    "from sklearn import datasets\n",
    "from sklearn import linear_model\n",
    "from sklearn.model_selection import train_test_split\n",
    "from sklearn.metrics import r2_score\n",
    "import numpy as np\n",
    "import pandas as pd\n",
    "import matplotlib.pyplot as plt\n",
    "from sklearn.preprocessing import StandardScaler\n",
    "from sklearn.model_selection import cross_val_score"
   ]
  },
  {
   "cell_type": "code",
   "execution_count": 36,
   "metadata": {},
   "outputs": [],
   "source": [
    "#this function is going to be helpful in question 11 to compute the test error rate\n",
    "#this is counting the amount of values outside a specific range and dividing it over the length of the data\n",
    "def test_error_rate(y_test,prediction):\n",
    "    error = 0\n",
    "    test_error = 0\n",
    "    for index in range(len(y_test)):\n",
    "        if y_test[index] < prediction[index][1] and y_test[index] > prediction[index][0]:\n",
    "            continue\n",
    "        else:\n",
    "            error += 1\n",
    "    return error/ len(y_test)"
   ]
  },
  {
   "cell_type": "markdown",
   "metadata": {},
   "source": [
    "## 1) load the data"
   ]
  },
  {
   "cell_type": "code",
   "execution_count": 37,
   "metadata": {},
   "outputs": [],
   "source": [
    "diabetes = datasets.load_diabetes()"
   ]
  },
  {
   "cell_type": "markdown",
   "metadata": {},
   "source": [
    "## 2) split the data into training and testing"
   ]
  },
  {
   "cell_type": "code",
   "execution_count": 38,
   "metadata": {},
   "outputs": [],
   "source": [
    "X_data = diabetes.data\n",
    "y = diabetes.target\n",
    "X_train,X_test,y_train,y_test = train_test_split(X_data,y,random_state = 408)"
   ]
  },
  {
   "cell_type": "markdown",
   "metadata": {},
   "source": [
    "## 3) training and testing R squared and the number of features"
   ]
  },
  {
   "cell_type": "code",
   "execution_count": 39,
   "metadata": {},
   "outputs": [
    {
     "name": "stdout",
     "output_type": "stream",
     "text": [
      "the r squared score for training is: 0.36859375515801496\n",
      "the r squared score for testing is: 0.3403312415954568\n",
      "[  0.           0.         347.65886726 127.46177627   0.\n",
      "   0.          -0.           0.         233.92769906   0.        ]\n",
      "the number of features used is: 3\n",
      "the features used in order to predict this dataset are: ['bmi', 'bp', 's5']\n"
     ]
    }
   ],
   "source": [
    "#creating the classifier\n",
    "clf = linear_model.Lasso()\n",
    "\n",
    "#fitting the data ( training the model )\n",
    "clf.fit(X_train,y_train)\n",
    "\n",
    "#predicting on the training and testing sets\n",
    "predict_training =clf.predict(X_train)\n",
    "predict_testing = clf.predict(X_test)\n",
    "\n",
    "#calculating r score for training and testing\n",
    "r2_score_for_training = r2_score(y_train, predict_training)\n",
    "r2_score_for_testing = r2_score(y_test, predict_testing)\n",
    "\n",
    "print(\"the r squared score for training is:\",r2_score_for_training)\n",
    "print(\"the r squared score for testing is:\",r2_score_for_testing)\n",
    "\n",
    "#as we can see this model is using 3 features to predict the model and ignoring the others\n",
    "#when we run this print, it will produce 10 values of which 3 are non-zero so we can see this model uses only 3 features\n",
    "print(clf.coef_)\n",
    "\n",
    "#using clf.coef_ to calculate how many feature are non zero\n",
    "features_used = []\n",
    "for i in range(0,len(clf.coef_)):\n",
    "    if clf.coef_[i] != 0:\n",
    "        features_used.append(diabetes['feature_names'][i])\n",
    "        \n",
    "print(\"the number of features used is:\",len(features_used))\n",
    "print(\"the features used in order to predict this dataset are:\",features_used)        "
   ]
  },
  {
   "cell_type": "markdown",
   "metadata": {},
   "source": [
    "## 4) importing data from the file instead"
   ]
  },
  {
   "cell_type": "code",
   "execution_count": 40,
   "metadata": {},
   "outputs": [],
   "source": [
    "#the data are saved in a txt file that is why I have used the csv.reader then produce a list out of those data\n",
    "import csv\n",
    "with open('C:/Users/kali/Desktop/Tab-delimited diabetes data.txt') as f:\n",
    "    reader = csv.reader(f, delimiter=\"\\t\")\n",
    "    d = list(reader)"
   ]
  },
  {
   "cell_type": "code",
   "execution_count": 41,
   "metadata": {},
   "outputs": [],
   "source": [
    "#I have divided the data into features, labels and data to predict add the data that i need\n",
    "features = []\n",
    "data = []\n",
    "label = []\n",
    "\n",
    "for i in range(0,len(d)):\n",
    "    array_of_data = []\n",
    "    if i == 0:\n",
    "        features.append(d[i])\n",
    "    else:\n",
    "        for j in range(0,len(d[0])):\n",
    "            if j != len(d[0]) - 1:\n",
    "                array_of_data.append(d[i][j])\n",
    "            else:\n",
    "                label.append(d[i][j])\n",
    "        data.append(array_of_data)        \n",
    "features = np.array(features[0])\n",
    "label = np.array(label)\n",
    "data = np.array(data)"
   ]
  },
  {
   "cell_type": "markdown",
   "metadata": {},
   "source": [
    "## 5) splitting these data into training and testing"
   ]
  },
  {
   "cell_type": "code",
   "execution_count": 42,
   "metadata": {},
   "outputs": [],
   "source": [
    "X_train,X_test,y_train,y_test = train_test_split(data,label,random_state=408)"
   ]
  },
  {
   "cell_type": "code",
   "execution_count": 43,
   "metadata": {},
   "outputs": [],
   "source": [
    "#using the standardscaler function to Scale the data then fitting them using training set\n",
    "scaler = StandardScaler().fit(X_train)\n",
    "X_train_scaler = scaler.transform(X_train)\n",
    "X_test_scaler = scaler.transform(X_test)\n",
    "\n",
    "#this is important because the data have different types ( some are int some are float )\n",
    "X_train = X_train.astype(float)\n",
    "X_test = X_test.astype(float)\n",
    "y_train = y_train.astype(float)\n",
    "y_test = y_test.astype(float)"
   ]
  },
  {
   "cell_type": "markdown",
   "metadata": {},
   "source": [
    "## 6) Repeating 3 with the new data"
   ]
  },
  {
   "cell_type": "markdown",
   "metadata": {},
   "source": [
    "in here the rsquared for both training and testing is higher than the first one and this is due to taking more features into consideration where in the first one the classifier took 3 features to compute the rsquared but in here it took 8 features ( the more features we take the higher the r squared)"
   ]
  },
  {
   "cell_type": "code",
   "execution_count": 44,
   "metadata": {},
   "outputs": [
    {
     "name": "stdout",
     "output_type": "stream",
     "text": [
      "the r squared score for the new data training is: 0.5219263505249627\n",
      "the r squared score for the new data tresting is: 0.4364337921284196\n",
      "the number of features used is: 8\n",
      "the features used in order to predict this dataset are: ['sex', 'bmi', 'bp', 's1', 's2', 's3', 's5', 's6']\n"
     ]
    }
   ],
   "source": [
    "clf.fit(X_train,y_train)\n",
    "predicting_new_training = clf.predict(X_train)\n",
    "predicting_new_testing = clf.predict(X_test)\n",
    "new_r2_score_for_training = r2_score(y_train,predicting_new_training)\n",
    "new_r2_score_for_testing = r2_score(y_test,predicting_new_testing)\n",
    "print(\"the r squared score for the new data training is:\",new_r2_score_for_training)\n",
    "print(\"the r squared score for the new data tresting is:\",new_r2_score_for_testing)\n",
    "\n",
    "features_used = []\n",
    "for i in range(0,len(clf.coef_)):\n",
    "    if clf.coef_[i] != 0:\n",
    "        features_used.append(diabetes['feature_names'][i])\n",
    "print(\"the number of features used is:\",len(features_used))\n",
    "print(\"the features used in order to predict this dataset are:\",features_used)        "
   ]
  },
  {
   "cell_type": "markdown",
   "metadata": {},
   "source": [
    "## 7) preprocess data using StandardScaler"
   ]
  },
  {
   "cell_type": "code",
   "execution_count": 45,
   "metadata": {},
   "outputs": [],
   "source": [
    "#in here, I have preprocessed the data but I used the variables created before \n",
    "scaler = StandardScaler().fit(X_train)\n",
    "X_train_scaler = scaler.transform(X_train)\n",
    "X_test_scaler = scaler.transform(X_test)"
   ]
  },
  {
   "cell_type": "markdown",
   "metadata": {},
   "source": [
    "## 8) Repeat the process using the new StandardScaler data"
   ]
  },
  {
   "cell_type": "markdown",
   "metadata": {},
   "source": [
    "as we can see in here, the training and testing r squared are close to the ones in question 6 and not in question 3. we would expect the model to produce similar result to 6 and 3 but the thing is, in here we are taking 1 more feature than question 6 and 5 more than 3, this will result in a bit higher r squared than question 6 which is confirmed and much higher than question 3 which is also confirmed."
   ]
  },
  {
   "cell_type": "code",
   "execution_count": 46,
   "metadata": {},
   "outputs": [
    {
     "name": "stdout",
     "output_type": "stream",
     "text": [
      "rsquared for training scalar prediction is: 0.5253295326189974\n",
      "rsquared for testing scalar prediction is: 0.45579992198161157\n",
      "the number of features used is: 7\n",
      "the features used in order to predict this dataset are: ['sex', 'bmi', 'bp', 's1', 's3', 's5', 's6']\n"
     ]
    }
   ],
   "source": [
    "clf.fit(X_train_scaler,y_train)\n",
    "prediction_for_training = clf.predict(X_train_scaler)\n",
    "prediction_for_testing = clf.predict(X_test_scaler)\n",
    "r2_score_for_scaler_training = r2_score(y_train,prediction_for_training)\n",
    "r2_score_for_scaler_testing = r2_score(y_test,prediction_for_testing)\n",
    "print(\"rsquared for training scalar prediction is:\",r2_score_for_scaler_training)\n",
    "print(\"rsquared for testing scalar prediction is:\",r2_score_for_scaler_testing)\n",
    "\n",
    "features_used = []\n",
    "for i in range(0,len(clf.coef_)):\n",
    "    if clf.coef_[i] != 0:\n",
    "        features_used.append(diabetes['feature_names'][i])\n",
    "print(\"the number of features used is:\",len(features_used))\n",
    "print(\"the features used in order to predict this dataset are:\",features_used)        "
   ]
  },
  {
   "cell_type": "markdown",
   "metadata": {},
   "source": [
    "## 9) varying alpha values"
   ]
  },
  {
   "cell_type": "code",
   "execution_count": 47,
   "metadata": {},
   "outputs": [],
   "source": [
    "#I have created this code which will take different values of values and for each one i have trained my new model based on it\n",
    "alpha = list(np.arange(0.01,40,0.01))\n",
    "alpha_used = []\n",
    "number_of_features_used = []\n",
    "r_squared_used = []\n",
    "\n",
    "for i in alpha:\n",
    "    clf = linear_model.Lasso(alpha=i)\n",
    "    clf.fit(X_train_scaler,y_train)\n",
    "    predict_testing = clf.predict(X_test_scaler)\n",
    "    r2 = r2_score(y_test, predict_testing)\n",
    "    alpha_used.append(i)\n",
    "    number_of_features_used.append(np.count_nonzero(clf.coef_))\n",
    "    r_squared_used.append(r2)"
   ]
  },
  {
   "cell_type": "code",
   "execution_count": 48,
   "metadata": {},
   "outputs": [],
   "source": [
    "#I have created a dataframe which will take have later three values the number of features, alpha used for each one and the r squared calculated for it\n",
    "df = pd.DataFrame(columns=['number of features used', 'r squared', 'alpha used'])"
   ]
  },
  {
   "cell_type": "code",
   "execution_count": 49,
   "metadata": {},
   "outputs": [],
   "source": [
    "#this is used to fit the 3 columns data into the dataframe using .loc\n",
    "for i in range(0,len(alpha_used)):\n",
    "    df.loc[i] = number_of_features_used[i],r_squared_used[i],alpha_used[i]"
   ]
  },
  {
   "cell_type": "code",
   "execution_count": 50,
   "metadata": {},
   "outputs": [],
   "source": [
    "#i have used grouby and idmax to get the maximum value of rsquared of each feature used and getting the alpha for it \n",
    "df = df.loc[df.groupby('number of features used')['r squared'].idxmax()]"
   ]
  },
  {
   "cell_type": "code",
   "execution_count": 51,
   "metadata": {},
   "outputs": [
    {
     "data": {
      "text/html": [
       "<div>\n",
       "<style scoped>\n",
       "    .dataframe tbody tr th:only-of-type {\n",
       "        vertical-align: middle;\n",
       "    }\n",
       "\n",
       "    .dataframe tbody tr th {\n",
       "        vertical-align: top;\n",
       "    }\n",
       "\n",
       "    .dataframe thead th {\n",
       "        text-align: right;\n",
       "    }\n",
       "</style>\n",
       "<table border=\"1\" class=\"dataframe\">\n",
       "  <thead>\n",
       "    <tr style=\"text-align: right;\">\n",
       "      <th></th>\n",
       "      <th>number of features used</th>\n",
       "      <th>r squared</th>\n",
       "      <th>alpha used</th>\n",
       "    </tr>\n",
       "  </thead>\n",
       "  <tbody>\n",
       "    <tr>\n",
       "      <th>3172</th>\n",
       "      <td>2.0</td>\n",
       "      <td>0.210795</td>\n",
       "      <td>31.73</td>\n",
       "    </tr>\n",
       "    <tr>\n",
       "      <th>1593</th>\n",
       "      <td>3.0</td>\n",
       "      <td>0.381859</td>\n",
       "      <td>15.94</td>\n",
       "    </tr>\n",
       "    <tr>\n",
       "      <th>567</th>\n",
       "      <td>4.0</td>\n",
       "      <td>0.432062</td>\n",
       "      <td>5.68</td>\n",
       "    </tr>\n",
       "    <tr>\n",
       "      <th>359</th>\n",
       "      <td>5.0</td>\n",
       "      <td>0.447246</td>\n",
       "      <td>3.60</td>\n",
       "    </tr>\n",
       "    <tr>\n",
       "      <th>261</th>\n",
       "      <td>6.0</td>\n",
       "      <td>0.452265</td>\n",
       "      <td>2.62</td>\n",
       "    </tr>\n",
       "    <tr>\n",
       "      <th>118</th>\n",
       "      <td>7.0</td>\n",
       "      <td>0.455851</td>\n",
       "      <td>1.19</td>\n",
       "    </tr>\n",
       "    <tr>\n",
       "      <th>64</th>\n",
       "      <td>8.0</td>\n",
       "      <td>0.455641</td>\n",
       "      <td>0.65</td>\n",
       "    </tr>\n",
       "    <tr>\n",
       "      <th>10</th>\n",
       "      <td>9.0</td>\n",
       "      <td>0.456753</td>\n",
       "      <td>0.11</td>\n",
       "    </tr>\n",
       "    <tr>\n",
       "      <th>0</th>\n",
       "      <td>10.0</td>\n",
       "      <td>0.458532</td>\n",
       "      <td>0.01</td>\n",
       "    </tr>\n",
       "  </tbody>\n",
       "</table>\n",
       "</div>"
      ],
      "text/plain": [
       "      number of features used  r squared  alpha used\n",
       "3172                      2.0   0.210795       31.73\n",
       "1593                      3.0   0.381859       15.94\n",
       "567                       4.0   0.432062        5.68\n",
       "359                       5.0   0.447246        3.60\n",
       "261                       6.0   0.452265        2.62\n",
       "118                       7.0   0.455851        1.19\n",
       "64                        8.0   0.455641        0.65\n",
       "10                        9.0   0.456753        0.11\n",
       "0                        10.0   0.458532        0.01"
      ]
     },
     "execution_count": 51,
     "metadata": {},
     "output_type": "execute_result"
    }
   ],
   "source": [
    "df"
   ]
  },
  {
   "cell_type": "markdown",
   "metadata": {},
   "source": [
    "looking at the graph, i would take 7 features where it gave me 0.455851 rsquared. the reason for this is that there isn't much difference between 7 to 10 features and 6 and 7 are similar with 7 being a bit higher and the remaining have bigger difference so I could take either 6 or 7 since they are similar but since its just a 1 feature difference and bit rsquared difference I'd choose 7 features"
   ]
  },
  {
   "cell_type": "code",
   "execution_count": 52,
   "metadata": {},
   "outputs": [
    {
     "data": {
      "text/plain": [
       "<matplotlib.axes._subplots.AxesSubplot at 0x234bd661080>"
      ]
     },
     "execution_count": 52,
     "metadata": {},
     "output_type": "execute_result"
    },
    {
     "data": {
      "image/png": "[encoded data removed]",
      "text/plain": [
       "<Figure size 432x288 with 1 Axes>"
      ]
     },
     "metadata": {
      "needs_background": "light"
     },
     "output_type": "display_data"
    }
   ],
   "source": [
    "#for each number of feature, i have plotted the corresponding r squared for it where we can conclude that 7 features is the best\n",
    "df.plot(x=\"number of features used\", y='r squared')"
   ]
  },
  {
   "cell_type": "markdown",
   "metadata": {},
   "source": [
    "## 10) choosing regularization parameter"
   ]
  },
  {
   "cell_type": "code",
   "execution_count": 53,
   "metadata": {},
   "outputs": [],
   "source": [
    "#this is a list containing different values for alpha just like before\n",
    "alpha_values = list(np.arange(0.1,3,0.01))"
   ]
  },
  {
   "cell_type": "code",
   "execution_count": 54,
   "metadata": {},
   "outputs": [],
   "source": [
    "#this will return the cross validation score of the model created for a different alpha value on the training data scaled\n",
    "mean_values = np.empty(len(alpha_values))\n",
    "for i in range(0,len(alpha_values)):\n",
    "    clf = linear_model.Lasso(alpha=alpha_values[i])\n",
    "    clf.fit(X_train_scaler,y_train)\n",
    "    mean_values[i] = np.mean(cross_val_score(clf,X_train_scaler,y_train,cv=5))"
   ]
  },
  {
   "cell_type": "code",
   "execution_count": 57,
   "metadata": {},
   "outputs": [],
   "source": [
    "#in here, I have taken the maximum value of the mean values calculated in the previous cell, then the enumerate is serving as a \n",
    "#index calculation to get the index of this maximum value and returning the corresponding alpha chosen\n",
    "max_value = max(mean_values)\n",
    "index = 0\n",
    "for i,j in enumerate(mean_values):\n",
    "    if j == max_value:\n",
    "        index = i\n",
    "\n",
    "alpha_chosen = alpha_values[index]"
   ]
  },
  {
   "cell_type": "code",
   "execution_count": 58,
   "metadata": {},
   "outputs": [],
   "source": [
    "#creating a classifier based on the alpha that i chose\n",
    "clf = linear_model.Lasso(alpha = alpha_chosen)"
   ]
  },
  {
   "cell_type": "code",
   "execution_count": 59,
   "metadata": {},
   "outputs": [
    {
     "data": {
      "text/plain": [
       "Lasso(alpha=2.019999999999999, copy_X=True, fit_intercept=True, max_iter=1000,\n",
       "      normalize=False, positive=False, precompute=False, random_state=None,\n",
       "      selection='cyclic', tol=0.0001, warm_start=False)"
      ]
     },
     "execution_count": 59,
     "metadata": {},
     "output_type": "execute_result"
    }
   ],
   "source": [
    "clf.fit(X_train_scaler,y_train)"
   ]
  },
  {
   "cell_type": "code",
   "execution_count": 60,
   "metadata": {},
   "outputs": [],
   "source": [
    "prediction_for_training = clf.predict(X_train_scaler)\n",
    "prediction_for_testing = clf.predict(X_test_scaler)"
   ]
  },
  {
   "cell_type": "code",
   "execution_count": 61,
   "metadata": {},
   "outputs": [],
   "source": [
    "r2_score_for_scaler_training = r2_score(y_train,prediction_for_training)\n",
    "r2_score_for_scaler_testing = r2_score(y_test,prediction_for_testing)"
   ]
  },
  {
   "cell_type": "code",
   "execution_count": 62,
   "metadata": {},
   "outputs": [],
   "source": [
    "features_used = []\n",
    "for i in range(0,len(clf.coef_)):\n",
    "    if clf.coef_[i] != 0:\n",
    "        features_used.append(features[i])"
   ]
  },
  {
   "cell_type": "code",
   "execution_count": 63,
   "metadata": {},
   "outputs": [
    {
     "name": "stdout",
     "output_type": "stream",
     "text": [
      "the alpha chosen is: 2.019999999999999\n",
      "the number of features used is: 7\n",
      "the features used in order to predict this dataset are: ['SEX', 'BMI', 'BP', 'S1', 'S3', 'S5', 'S6']\n",
      "the r squared for the training set is: 0.5210279848784138\n",
      "the r squared for the training set is: 0.45462092735500503\n"
     ]
    }
   ],
   "source": [
    "print(\"the alpha chosen is:\",alpha_chosen)\n",
    "print(\"the number of features used is:\",len(features_used))\n",
    "print(\"the features used in order to predict this dataset are:\",features_used)\n",
    "print(\"the r squared for the training set is:\",r2_score_for_scaler_training)\n",
    "print(\"the r squared for the training set is:\",r2_score_for_scaler_testing)"
   ]
  },
  {
   "cell_type": "markdown",
   "metadata": {},
   "source": [
    "## 11 a) splitting the training set  "
   ]
  },
  {
   "cell_type": "code",
   "execution_count": 64,
   "metadata": {},
   "outputs": [],
   "source": [
    "#splitting the data into training and testing but taking only 99 test size\n",
    "X_train_proper_set, X_calibration_set, y_train_proper_set, y_calibration = train_test_split(X_train, y_train, test_size=99, random_state=408)"
   ]
  },
  {
   "cell_type": "markdown",
   "metadata": {},
   "source": [
    "## 11 b) preprocessing into StandardScaler"
   ]
  },
  {
   "cell_type": "code",
   "execution_count": 65,
   "metadata": {},
   "outputs": [],
   "source": [
    "#scaling the data based on the training set\n",
    "scaler = StandardScaler().fit(X_train_proper_set)\n",
    "X_train_scaler = scaler.transform(X_train_proper_set)\n",
    "X_calibration_scaler = scaler.transform(X_calibration_set)\n",
    "X_test_scaler = scaler.transform(X_test)"
   ]
  },
  {
   "cell_type": "code",
   "execution_count": 66,
   "metadata": {},
   "outputs": [
    {
     "data": {
      "text/plain": [
       "Lasso(alpha=2.019999999999999, copy_X=True, fit_intercept=True, max_iter=1000,\n",
       "      normalize=False, positive=False, precompute=False, random_state=None,\n",
       "      selection='cyclic', tol=0.0001, warm_start=False)"
      ]
     },
     "execution_count": 66,
     "metadata": {},
     "output_type": "execute_result"
    }
   ],
   "source": [
    "clf.fit(X_train_scaler,y_train_proper_set)"
   ]
  },
  {
   "cell_type": "markdown",
   "metadata": {},
   "source": [
    "## 11 c) non-conformity "
   ]
  },
  {
   "cell_type": "code",
   "execution_count": 67,
   "metadata": {},
   "outputs": [],
   "source": [
    "#first I have calculated the absolute value of the (y_true - y-calculated) where the y_calculated is using the calibration scaler\n",
    "#data set for predicting. the, I have sorted the data afterwards\n",
    "prediction_values = abs(y_calibration - clf.predict(X_calibration_scaler))\n",
    "prediction_values = np.sort(prediction_values)\n",
    "\n",
    "#for 5% and 20% significance, I have taken the value of the index 94 and the index 79 ( because its 99 - 5 and 99 - 20)\n",
    "value_for_5_percent = prediction_values[len(X_calibration_set) - 5]\n",
    "value_for_20_percent = prediction_values[len(X_calibration_set) - 20]\n",
    "\n",
    "#this is creating an empty numpy array for the 5% and 20% to be used later\n",
    "prediction_for_5 = np.empty(shape=(len(X_test_scaler),2))\n",
    "prediction_for_20 = np.empty(shape=(len(X_test_scaler),2))\n",
    "\n",
    "#in here, I am getting an interval of data for 5% and 20% \n",
    "for i in range(len(X_test_scaler)):\n",
    "    pre_5 = clf.predict(X_test_scaler)[i] - value_for_5_percent\n",
    "    post_5 = clf.predict(X_test_scaler)[i] + value_for_5_percent\n",
    "    pre_20 = clf.predict(X_test_scaler)[i] - value_for_20_percent\n",
    "    post_20 = clf.predict(X_test_scaler)[i] + value_for_20_percent\n",
    "    prediction_for_5[i] = [pre_5,post_5]\n",
    "    prediction_for_20[i] = [pre_20,post_20]"
   ]
  },
  {
   "cell_type": "code",
   "execution_count": 68,
   "metadata": {},
   "outputs": [
    {
     "name": "stdout",
     "output_type": "stream",
     "text": [
      "length for 5% is: 219.41058852261847\n",
      "length for 20% is: 144.75706562014716\n"
     ]
    }
   ],
   "source": [
    "#basically, the length can be calculated using value*2 or just minimizing the post and pre of each significance\n",
    "print(\"length for 5% is:\",value_for_5_percent*2)\n",
    "print(\"length for 20% is:\",value_for_20_percent*2)"
   ]
  },
  {
   "cell_type": "code",
   "execution_count": 69,
   "metadata": {},
   "outputs": [],
   "source": [
    "#I have used the test error rate initialized previously to calculate this\n",
    "error_5 = test_error_rate(y_test,prediction_for_5)\n",
    "error_20 = test_error_rate(y_test,prediction_for_20)"
   ]
  },
  {
   "cell_type": "code",
   "execution_count": 70,
   "metadata": {},
   "outputs": [
    {
     "name": "stdout",
     "output_type": "stream",
     "text": [
      "the test error rate for the 5% significance is: 0.06306306306306306\n",
      "the test error rate for the 20% significance is: 0.22522522522522523\n"
     ]
    }
   ],
   "source": [
    "print(\"the test error rate for the 5% significance is:\",error_5)\n",
    "print(\"the test error rate for the 20% significance is:\",error_20)"
   ]
  },
  {
   "cell_type": "markdown",
   "metadata": {},
   "source": [
    "# all values"
   ]
  },
  {
   "cell_type": "markdown",
   "metadata": {},
   "source": [
    "all values has been giving in this jupyter notebook in details and in this section I will present all the values in a more clean and visible way"
   ]
  },
  {
   "cell_type": "markdown",
   "metadata": {},
   "source": [
    "3) \n",
    "- training r squared: 0.36859375515801496\n",
    "- testing r squared : 0.3403312415954568\n",
    "- the number of features used is: 3\n",
    "- the features used: ('bmi','bp','s5')\n",
    "\n",
    "6)\n",
    "- training r squared: 0.5219263505249627\n",
    "- testing r squared: 0.4364337921284196\n",
    "- the number of features used is: 8\n",
    "- the features used:('sex', 'bmi', 'bp', 's1', 's2', 's3', 's5', 's6')\n",
    "\n",
    "8)\n",
    "- training r squared: 0.5253295326189974\n",
    "- testing r squared: 0.45579992198161157\n",
    "- the number of features used is: 7\n",
    "- the features used: ('sex', 'bmi', 'bp', 's1', 's3', 's5', 's6')\n",
    "\n",
    "10)\n",
    "- the alpha chosen is: 2.019999999999999\n",
    "- training r squared: 0.5210279848784138\n",
    "- testing r squared: 0.45462092735500503\n",
    "- the number of features used is: 7\n",
    "- the features used: ('SEX', 'BMI', 'BP', 'S1', 'S3', 'S5', 'S6')\n",
    "\n",
    "11)\n",
    "- length for 5% is: 219.41058852261847\n",
    "- length for 20% is: 144.75706562014716\n",
    "- the test error rate for the 5%: 0.06306306306306306\n",
    "- the test error rate for the 20%: 0.22522522522522523"
   ]
  }
 ],
 "metadata": {
  "kernelspec": {
   "display_name": "Python 3",
   "language": "python",
   "name": "python3"
  },
  "language_info": {
   "codemirror_mode": {
    "name": "ipython",
    "version": 3
   },
   "file_extension": ".py",
   "mimetype": "text/x-python",
   "name": "python",
   "nbconvert_exporter": "python",
   "pygments_lexer": "ipython3",
   "version": "3.7.3"
  }
 },
 "nbformat": 4,
 "nbformat_minor": 2
}
